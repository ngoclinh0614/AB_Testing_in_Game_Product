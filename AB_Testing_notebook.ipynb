{
  "nbformat": 4,
  "nbformat_minor": 0,
  "metadata": {
    "colab": {
      "provenance": [],
      "collapsed_sections": [
        "rdHKpvGjKtG1",
        "c_UjEZmFKxRC",
        "ZI5BXRzOKzDZ"
      ],
      "toc_visible": true
    },
    "kernelspec": {
      "name": "python3",
      "display_name": "Python 3"
    },
    "language_info": {
      "name": "python"
    }
  },
  "cells": [
    {
      "cell_type": "code",
      "execution_count": 50,
      "metadata": {
        "id": "Z0XhirJBBYv5"
      },
      "outputs": [],
      "source": [
        "import pandas as pd\n",
        "import numpy as np\n",
        "from scipy import stats\n",
        "import matplotlib.pyplot as plt"
      ]
    },
    {
      "cell_type": "code",
      "source": [
        "data = pd.read_csv('cookie_cats.csv')"
      ],
      "metadata": {
        "id": "cw_0PeT3GHJ1"
      },
      "execution_count": 51,
      "outputs": []
    },
    {
      "cell_type": "markdown",
      "source": [
        "# Data validation\n",
        "- check outliers\n",
        "- missing data\n",
        "- data entry errors"
      ],
      "metadata": {
        "id": "2GESzYXDF1-n"
      }
    },
    {
      "cell_type": "code",
      "source": [
        "data.head()"
      ],
      "metadata": {
        "colab": {
          "base_uri": "https://localhost:8080/",
          "height": 206
        },
        "id": "bEXkeH1lF1PV",
        "outputId": "9b98a4e5-6192-47bc-883f-8aaf139ee91e"
      },
      "execution_count": 52,
      "outputs": [
        {
          "output_type": "execute_result",
          "data": {
            "text/plain": [
              "   userid  version  sum_gamerounds  retention_1  retention_7\n",
              "0     116  gate_30               3        False        False\n",
              "1     337  gate_30              38         True        False\n",
              "2     377  gate_40             165         True        False\n",
              "3     483  gate_40               1        False        False\n",
              "4     488  gate_40             179         True         True"
            ],
            "text/html": [
              "\n",
              "\n",
              "  <div id=\"df-d1251226-751f-4834-9d37-e8703e5d400a\">\n",
              "    <div class=\"colab-df-container\">\n",
              "      <div>\n",
              "<style scoped>\n",
              "    .dataframe tbody tr th:only-of-type {\n",
              "        vertical-align: middle;\n",
              "    }\n",
              "\n",
              "    .dataframe tbody tr th {\n",
              "        vertical-align: top;\n",
              "    }\n",
              "\n",
              "    .dataframe thead th {\n",
              "        text-align: right;\n",
              "    }\n",
              "</style>\n",
              "<table border=\"1\" class=\"dataframe\">\n",
              "  <thead>\n",
              "    <tr style=\"text-align: right;\">\n",
              "      <th></th>\n",
              "      <th>userid</th>\n",
              "      <th>version</th>\n",
              "      <th>sum_gamerounds</th>\n",
              "      <th>retention_1</th>\n",
              "      <th>retention_7</th>\n",
              "    </tr>\n",
              "  </thead>\n",
              "  <tbody>\n",
              "    <tr>\n",
              "      <th>0</th>\n",
              "      <td>116</td>\n",
              "      <td>gate_30</td>\n",
              "      <td>3</td>\n",
              "      <td>False</td>\n",
              "      <td>False</td>\n",
              "    </tr>\n",
              "    <tr>\n",
              "      <th>1</th>\n",
              "      <td>337</td>\n",
              "      <td>gate_30</td>\n",
              "      <td>38</td>\n",
              "      <td>True</td>\n",
              "      <td>False</td>\n",
              "    </tr>\n",
              "    <tr>\n",
              "      <th>2</th>\n",
              "      <td>377</td>\n",
              "      <td>gate_40</td>\n",
              "      <td>165</td>\n",
              "      <td>True</td>\n",
              "      <td>False</td>\n",
              "    </tr>\n",
              "    <tr>\n",
              "      <th>3</th>\n",
              "      <td>483</td>\n",
              "      <td>gate_40</td>\n",
              "      <td>1</td>\n",
              "      <td>False</td>\n",
              "      <td>False</td>\n",
              "    </tr>\n",
              "    <tr>\n",
              "      <th>4</th>\n",
              "      <td>488</td>\n",
              "      <td>gate_40</td>\n",
              "      <td>179</td>\n",
              "      <td>True</td>\n",
              "      <td>True</td>\n",
              "    </tr>\n",
              "  </tbody>\n",
              "</table>\n",
              "</div>\n",
              "      <button class=\"colab-df-convert\" onclick=\"convertToInteractive('df-d1251226-751f-4834-9d37-e8703e5d400a')\"\n",
              "              title=\"Convert this dataframe to an interactive table.\"\n",
              "              style=\"display:none;\">\n",
              "\n",
              "  <svg xmlns=\"http://www.w3.org/2000/svg\" height=\"24px\"viewBox=\"0 0 24 24\"\n",
              "       width=\"24px\">\n",
              "    <path d=\"M0 0h24v24H0V0z\" fill=\"none\"/>\n",
              "    <path d=\"M18.56 5.44l.94 2.06.94-2.06 2.06-.94-2.06-.94-.94-2.06-.94 2.06-2.06.94zm-11 1L8.5 8.5l.94-2.06 2.06-.94-2.06-.94L8.5 2.5l-.94 2.06-2.06.94zm10 10l.94 2.06.94-2.06 2.06-.94-2.06-.94-.94-2.06-.94 2.06-2.06.94z\"/><path d=\"M17.41 7.96l-1.37-1.37c-.4-.4-.92-.59-1.43-.59-.52 0-1.04.2-1.43.59L10.3 9.45l-7.72 7.72c-.78.78-.78 2.05 0 2.83L4 21.41c.39.39.9.59 1.41.59.51 0 1.02-.2 1.41-.59l7.78-7.78 2.81-2.81c.8-.78.8-2.07 0-2.86zM5.41 20L4 18.59l7.72-7.72 1.47 1.35L5.41 20z\"/>\n",
              "  </svg>\n",
              "      </button>\n",
              "\n",
              "\n",
              "\n",
              "    <div id=\"df-b219b8fe-568b-4195-9295-4a87a5e7081b\">\n",
              "      <button class=\"colab-df-quickchart\" onclick=\"quickchart('df-b219b8fe-568b-4195-9295-4a87a5e7081b')\"\n",
              "              title=\"Suggest charts.\"\n",
              "              style=\"display:none;\">\n",
              "\n",
              "<svg xmlns=\"http://www.w3.org/2000/svg\" height=\"24px\"viewBox=\"0 0 24 24\"\n",
              "     width=\"24px\">\n",
              "    <g>\n",
              "        <path d=\"M19 3H5c-1.1 0-2 .9-2 2v14c0 1.1.9 2 2 2h14c1.1 0 2-.9 2-2V5c0-1.1-.9-2-2-2zM9 17H7v-7h2v7zm4 0h-2V7h2v10zm4 0h-2v-4h2v4z\"/>\n",
              "    </g>\n",
              "</svg>\n",
              "      </button>\n",
              "    </div>\n",
              "\n",
              "<style>\n",
              "  .colab-df-quickchart {\n",
              "    background-color: #E8F0FE;\n",
              "    border: none;\n",
              "    border-radius: 50%;\n",
              "    cursor: pointer;\n",
              "    display: none;\n",
              "    fill: #1967D2;\n",
              "    height: 32px;\n",
              "    padding: 0 0 0 0;\n",
              "    width: 32px;\n",
              "  }\n",
              "\n",
              "  .colab-df-quickchart:hover {\n",
              "    background-color: #E2EBFA;\n",
              "    box-shadow: 0px 1px 2px rgba(60, 64, 67, 0.3), 0px 1px 3px 1px rgba(60, 64, 67, 0.15);\n",
              "    fill: #174EA6;\n",
              "  }\n",
              "\n",
              "  [theme=dark] .colab-df-quickchart {\n",
              "    background-color: #3B4455;\n",
              "    fill: #D2E3FC;\n",
              "  }\n",
              "\n",
              "  [theme=dark] .colab-df-quickchart:hover {\n",
              "    background-color: #434B5C;\n",
              "    box-shadow: 0px 1px 3px 1px rgba(0, 0, 0, 0.15);\n",
              "    filter: drop-shadow(0px 1px 2px rgba(0, 0, 0, 0.3));\n",
              "    fill: #FFFFFF;\n",
              "  }\n",
              "</style>\n",
              "\n",
              "    <script>\n",
              "      async function quickchart(key) {\n",
              "        const containerElement = document.querySelector('#' + key);\n",
              "        const charts = await google.colab.kernel.invokeFunction(\n",
              "            'suggestCharts', [key], {});\n",
              "      }\n",
              "    </script>\n",
              "\n",
              "      <script>\n",
              "\n",
              "function displayQuickchartButton(domScope) {\n",
              "  let quickchartButtonEl =\n",
              "    domScope.querySelector('#df-b219b8fe-568b-4195-9295-4a87a5e7081b button.colab-df-quickchart');\n",
              "  quickchartButtonEl.style.display =\n",
              "    google.colab.kernel.accessAllowed ? 'block' : 'none';\n",
              "}\n",
              "\n",
              "        displayQuickchartButton(document);\n",
              "      </script>\n",
              "      <style>\n",
              "    .colab-df-container {\n",
              "      display:flex;\n",
              "      flex-wrap:wrap;\n",
              "      gap: 12px;\n",
              "    }\n",
              "\n",
              "    .colab-df-convert {\n",
              "      background-color: #E8F0FE;\n",
              "      border: none;\n",
              "      border-radius: 50%;\n",
              "      cursor: pointer;\n",
              "      display: none;\n",
              "      fill: #1967D2;\n",
              "      height: 32px;\n",
              "      padding: 0 0 0 0;\n",
              "      width: 32px;\n",
              "    }\n",
              "\n",
              "    .colab-df-convert:hover {\n",
              "      background-color: #E2EBFA;\n",
              "      box-shadow: 0px 1px 2px rgba(60, 64, 67, 0.3), 0px 1px 3px 1px rgba(60, 64, 67, 0.15);\n",
              "      fill: #174EA6;\n",
              "    }\n",
              "\n",
              "    [theme=dark] .colab-df-convert {\n",
              "      background-color: #3B4455;\n",
              "      fill: #D2E3FC;\n",
              "    }\n",
              "\n",
              "    [theme=dark] .colab-df-convert:hover {\n",
              "      background-color: #434B5C;\n",
              "      box-shadow: 0px 1px 3px 1px rgba(0, 0, 0, 0.15);\n",
              "      filter: drop-shadow(0px 1px 2px rgba(0, 0, 0, 0.3));\n",
              "      fill: #FFFFFF;\n",
              "    }\n",
              "  </style>\n",
              "\n",
              "      <script>\n",
              "        const buttonEl =\n",
              "          document.querySelector('#df-d1251226-751f-4834-9d37-e8703e5d400a button.colab-df-convert');\n",
              "        buttonEl.style.display =\n",
              "          google.colab.kernel.accessAllowed ? 'block' : 'none';\n",
              "\n",
              "        async function convertToInteractive(key) {\n",
              "          const element = document.querySelector('#df-d1251226-751f-4834-9d37-e8703e5d400a');\n",
              "          const dataTable =\n",
              "            await google.colab.kernel.invokeFunction('convertToInteractive',\n",
              "                                                     [key], {});\n",
              "          if (!dataTable) return;\n",
              "\n",
              "          const docLinkHtml = 'Like what you see? Visit the ' +\n",
              "            '<a target=\"_blank\" href=https://colab.research.google.com/notebooks/data_table.ipynb>data table notebook</a>'\n",
              "            + ' to learn more about interactive tables.';\n",
              "          element.innerHTML = '';\n",
              "          dataTable['output_type'] = 'display_data';\n",
              "          await google.colab.output.renderOutput(dataTable, element);\n",
              "          const docLink = document.createElement('div');\n",
              "          docLink.innerHTML = docLinkHtml;\n",
              "          element.appendChild(docLink);\n",
              "        }\n",
              "      </script>\n",
              "    </div>\n",
              "  </div>\n"
            ]
          },
          "metadata": {},
          "execution_count": 52
        }
      ]
    },
    {
      "cell_type": "code",
      "source": [
        "data.describe()"
      ],
      "metadata": {
        "colab": {
          "base_uri": "https://localhost:8080/",
          "height": 300
        },
        "id": "3zlpnOxokQrD",
        "outputId": "7a488197-6ee4-416c-9237-3fa766765f21"
      },
      "execution_count": 53,
      "outputs": [
        {
          "output_type": "execute_result",
          "data": {
            "text/plain": [
              "             userid  sum_gamerounds\n",
              "count  9.018900e+04    90189.000000\n",
              "mean   4.998412e+06       51.872457\n",
              "std    2.883286e+06      195.050858\n",
              "min    1.160000e+02        0.000000\n",
              "25%    2.512230e+06        5.000000\n",
              "50%    4.995815e+06       16.000000\n",
              "75%    7.496452e+06       51.000000\n",
              "max    9.999861e+06    49854.000000"
            ],
            "text/html": [
              "\n",
              "\n",
              "  <div id=\"df-ae760cbc-a5f8-4f4b-997b-459276b94b1f\">\n",
              "    <div class=\"colab-df-container\">\n",
              "      <div>\n",
              "<style scoped>\n",
              "    .dataframe tbody tr th:only-of-type {\n",
              "        vertical-align: middle;\n",
              "    }\n",
              "\n",
              "    .dataframe tbody tr th {\n",
              "        vertical-align: top;\n",
              "    }\n",
              "\n",
              "    .dataframe thead th {\n",
              "        text-align: right;\n",
              "    }\n",
              "</style>\n",
              "<table border=\"1\" class=\"dataframe\">\n",
              "  <thead>\n",
              "    <tr style=\"text-align: right;\">\n",
              "      <th></th>\n",
              "      <th>userid</th>\n",
              "      <th>sum_gamerounds</th>\n",
              "    </tr>\n",
              "  </thead>\n",
              "  <tbody>\n",
              "    <tr>\n",
              "      <th>count</th>\n",
              "      <td>9.018900e+04</td>\n",
              "      <td>90189.000000</td>\n",
              "    </tr>\n",
              "    <tr>\n",
              "      <th>mean</th>\n",
              "      <td>4.998412e+06</td>\n",
              "      <td>51.872457</td>\n",
              "    </tr>\n",
              "    <tr>\n",
              "      <th>std</th>\n",
              "      <td>2.883286e+06</td>\n",
              "      <td>195.050858</td>\n",
              "    </tr>\n",
              "    <tr>\n",
              "      <th>min</th>\n",
              "      <td>1.160000e+02</td>\n",
              "      <td>0.000000</td>\n",
              "    </tr>\n",
              "    <tr>\n",
              "      <th>25%</th>\n",
              "      <td>2.512230e+06</td>\n",
              "      <td>5.000000</td>\n",
              "    </tr>\n",
              "    <tr>\n",
              "      <th>50%</th>\n",
              "      <td>4.995815e+06</td>\n",
              "      <td>16.000000</td>\n",
              "    </tr>\n",
              "    <tr>\n",
              "      <th>75%</th>\n",
              "      <td>7.496452e+06</td>\n",
              "      <td>51.000000</td>\n",
              "    </tr>\n",
              "    <tr>\n",
              "      <th>max</th>\n",
              "      <td>9.999861e+06</td>\n",
              "      <td>49854.000000</td>\n",
              "    </tr>\n",
              "  </tbody>\n",
              "</table>\n",
              "</div>\n",
              "      <button class=\"colab-df-convert\" onclick=\"convertToInteractive('df-ae760cbc-a5f8-4f4b-997b-459276b94b1f')\"\n",
              "              title=\"Convert this dataframe to an interactive table.\"\n",
              "              style=\"display:none;\">\n",
              "\n",
              "  <svg xmlns=\"http://www.w3.org/2000/svg\" height=\"24px\"viewBox=\"0 0 24 24\"\n",
              "       width=\"24px\">\n",
              "    <path d=\"M0 0h24v24H0V0z\" fill=\"none\"/>\n",
              "    <path d=\"M18.56 5.44l.94 2.06.94-2.06 2.06-.94-2.06-.94-.94-2.06-.94 2.06-2.06.94zm-11 1L8.5 8.5l.94-2.06 2.06-.94-2.06-.94L8.5 2.5l-.94 2.06-2.06.94zm10 10l.94 2.06.94-2.06 2.06-.94-2.06-.94-.94-2.06-.94 2.06-2.06.94z\"/><path d=\"M17.41 7.96l-1.37-1.37c-.4-.4-.92-.59-1.43-.59-.52 0-1.04.2-1.43.59L10.3 9.45l-7.72 7.72c-.78.78-.78 2.05 0 2.83L4 21.41c.39.39.9.59 1.41.59.51 0 1.02-.2 1.41-.59l7.78-7.78 2.81-2.81c.8-.78.8-2.07 0-2.86zM5.41 20L4 18.59l7.72-7.72 1.47 1.35L5.41 20z\"/>\n",
              "  </svg>\n",
              "      </button>\n",
              "\n",
              "\n",
              "\n",
              "    <div id=\"df-13a724cc-4ae3-44e6-b33d-77eecdc68acc\">\n",
              "      <button class=\"colab-df-quickchart\" onclick=\"quickchart('df-13a724cc-4ae3-44e6-b33d-77eecdc68acc')\"\n",
              "              title=\"Suggest charts.\"\n",
              "              style=\"display:none;\">\n",
              "\n",
              "<svg xmlns=\"http://www.w3.org/2000/svg\" height=\"24px\"viewBox=\"0 0 24 24\"\n",
              "     width=\"24px\">\n",
              "    <g>\n",
              "        <path d=\"M19 3H5c-1.1 0-2 .9-2 2v14c0 1.1.9 2 2 2h14c1.1 0 2-.9 2-2V5c0-1.1-.9-2-2-2zM9 17H7v-7h2v7zm4 0h-2V7h2v10zm4 0h-2v-4h2v4z\"/>\n",
              "    </g>\n",
              "</svg>\n",
              "      </button>\n",
              "    </div>\n",
              "\n",
              "<style>\n",
              "  .colab-df-quickchart {\n",
              "    background-color: #E8F0FE;\n",
              "    border: none;\n",
              "    border-radius: 50%;\n",
              "    cursor: pointer;\n",
              "    display: none;\n",
              "    fill: #1967D2;\n",
              "    height: 32px;\n",
              "    padding: 0 0 0 0;\n",
              "    width: 32px;\n",
              "  }\n",
              "\n",
              "  .colab-df-quickchart:hover {\n",
              "    background-color: #E2EBFA;\n",
              "    box-shadow: 0px 1px 2px rgba(60, 64, 67, 0.3), 0px 1px 3px 1px rgba(60, 64, 67, 0.15);\n",
              "    fill: #174EA6;\n",
              "  }\n",
              "\n",
              "  [theme=dark] .colab-df-quickchart {\n",
              "    background-color: #3B4455;\n",
              "    fill: #D2E3FC;\n",
              "  }\n",
              "\n",
              "  [theme=dark] .colab-df-quickchart:hover {\n",
              "    background-color: #434B5C;\n",
              "    box-shadow: 0px 1px 3px 1px rgba(0, 0, 0, 0.15);\n",
              "    filter: drop-shadow(0px 1px 2px rgba(0, 0, 0, 0.3));\n",
              "    fill: #FFFFFF;\n",
              "  }\n",
              "</style>\n",
              "\n",
              "    <script>\n",
              "      async function quickchart(key) {\n",
              "        const containerElement = document.querySelector('#' + key);\n",
              "        const charts = await google.colab.kernel.invokeFunction(\n",
              "            'suggestCharts', [key], {});\n",
              "      }\n",
              "    </script>\n",
              "\n",
              "      <script>\n",
              "\n",
              "function displayQuickchartButton(domScope) {\n",
              "  let quickchartButtonEl =\n",
              "    domScope.querySelector('#df-13a724cc-4ae3-44e6-b33d-77eecdc68acc button.colab-df-quickchart');\n",
              "  quickchartButtonEl.style.display =\n",
              "    google.colab.kernel.accessAllowed ? 'block' : 'none';\n",
              "}\n",
              "\n",
              "        displayQuickchartButton(document);\n",
              "      </script>\n",
              "      <style>\n",
              "    .colab-df-container {\n",
              "      display:flex;\n",
              "      flex-wrap:wrap;\n",
              "      gap: 12px;\n",
              "    }\n",
              "\n",
              "    .colab-df-convert {\n",
              "      background-color: #E8F0FE;\n",
              "      border: none;\n",
              "      border-radius: 50%;\n",
              "      cursor: pointer;\n",
              "      display: none;\n",
              "      fill: #1967D2;\n",
              "      height: 32px;\n",
              "      padding: 0 0 0 0;\n",
              "      width: 32px;\n",
              "    }\n",
              "\n",
              "    .colab-df-convert:hover {\n",
              "      background-color: #E2EBFA;\n",
              "      box-shadow: 0px 1px 2px rgba(60, 64, 67, 0.3), 0px 1px 3px 1px rgba(60, 64, 67, 0.15);\n",
              "      fill: #174EA6;\n",
              "    }\n",
              "\n",
              "    [theme=dark] .colab-df-convert {\n",
              "      background-color: #3B4455;\n",
              "      fill: #D2E3FC;\n",
              "    }\n",
              "\n",
              "    [theme=dark] .colab-df-convert:hover {\n",
              "      background-color: #434B5C;\n",
              "      box-shadow: 0px 1px 3px 1px rgba(0, 0, 0, 0.15);\n",
              "      filter: drop-shadow(0px 1px 2px rgba(0, 0, 0, 0.3));\n",
              "      fill: #FFFFFF;\n",
              "    }\n",
              "  </style>\n",
              "\n",
              "      <script>\n",
              "        const buttonEl =\n",
              "          document.querySelector('#df-ae760cbc-a5f8-4f4b-997b-459276b94b1f button.colab-df-convert');\n",
              "        buttonEl.style.display =\n",
              "          google.colab.kernel.accessAllowed ? 'block' : 'none';\n",
              "\n",
              "        async function convertToInteractive(key) {\n",
              "          const element = document.querySelector('#df-ae760cbc-a5f8-4f4b-997b-459276b94b1f');\n",
              "          const dataTable =\n",
              "            await google.colab.kernel.invokeFunction('convertToInteractive',\n",
              "                                                     [key], {});\n",
              "          if (!dataTable) return;\n",
              "\n",
              "          const docLinkHtml = 'Like what you see? Visit the ' +\n",
              "            '<a target=\"_blank\" href=https://colab.research.google.com/notebooks/data_table.ipynb>data table notebook</a>'\n",
              "            + ' to learn more about interactive tables.';\n",
              "          element.innerHTML = '';\n",
              "          dataTable['output_type'] = 'display_data';\n",
              "          await google.colab.output.renderOutput(dataTable, element);\n",
              "          const docLink = document.createElement('div');\n",
              "          docLink.innerHTML = docLinkHtml;\n",
              "          element.appendChild(docLink);\n",
              "        }\n",
              "      </script>\n",
              "    </div>\n",
              "  </div>\n"
            ]
          },
          "metadata": {},
          "execution_count": 53
        }
      ]
    },
    {
      "cell_type": "code",
      "source": [
        "# Check for missing values\n",
        "missing_values = data.isnull().sum()\n",
        "print(\"Missing Values:\")\n",
        "print(missing_values)"
      ],
      "metadata": {
        "colab": {
          "base_uri": "https://localhost:8080/"
        },
        "id": "pMe00D3QGL9k",
        "outputId": "0f437686-a961-4b87-e20e-8cc6eadef81c"
      },
      "execution_count": 54,
      "outputs": [
        {
          "output_type": "stream",
          "name": "stdout",
          "text": [
            "Missing Values:\n",
            "userid            0\n",
            "version           0\n",
            "sum_gamerounds    0\n",
            "retention_1       0\n",
            "retention_7       0\n",
            "dtype: int64\n"
          ]
        }
      ]
    },
    {
      "cell_type": "code",
      "source": [
        "# Check for outliers\n",
        "numeric_columns = ['sum_gamerounds']\n",
        "for column in numeric_columns:\n",
        "    q1 = data[column].quantile(0.25)\n",
        "    q3 = data[column].quantile(0.75)\n",
        "    iqr = q3 - q1\n",
        "    lower_bound = q1 - 1.5 * iqr\n",
        "    upper_bound = q3 + 1.5 * iqr\n",
        "    outliers = data[(data[column] < lower_bound) | (data[column] > upper_bound)]\n",
        "    if not outliers.empty:\n",
        "        print(\"Outliers in column\", column)\n",
        "        print(outliers)"
      ],
      "metadata": {
        "colab": {
          "base_uri": "https://localhost:8080/"
        },
        "id": "QcmAJSfyGjqo",
        "outputId": "05258d53-5cd5-406a-95f1-52bc7c4aacb9"
      },
      "execution_count": 55,
      "outputs": [
        {
          "output_type": "stream",
          "name": "stdout",
          "text": [
            "Outliers in column sum_gamerounds\n",
            "        userid  version  sum_gamerounds  retention_1  retention_7\n",
            "2          377  gate_40             165         True        False\n",
            "4          488  gate_40             179         True         True\n",
            "5          540  gate_40             187         True         True\n",
            "9         1587  gate_40             153         True        False\n",
            "14        2218  gate_30             305         True         True\n",
            "...        ...      ...             ...          ...          ...\n",
            "90121  9991145  gate_30             328         True         True\n",
            "90125  9991408  gate_40             186         True         True\n",
            "90134  9991949  gate_30             191         True         True\n",
            "90150  9995412  gate_40             253         True         True\n",
            "90160  9996269  gate_30             143        False        False\n",
            "\n",
            "[10177 rows x 5 columns]\n"
          ]
        }
      ]
    },
    {
      "cell_type": "code",
      "source": [
        "data = data.drop(outliers.index)"
      ],
      "metadata": {
        "id": "DX_dMBGFNSIc"
      },
      "execution_count": 56,
      "outputs": []
    },
    {
      "cell_type": "code",
      "source": [
        "# Validate numerical variables\n",
        "for column in numeric_columns:\n",
        "    statistics = data[column].describe()\n",
        "    print(\"Statistics for column\", column)\n",
        "    print(statistics)"
      ],
      "metadata": {
        "colab": {
          "base_uri": "https://localhost:8080/"
        },
        "id": "eH5uMVYCGwMy",
        "outputId": "9a8b9aa4-c179-4c6e-89c5-4b74e6d885c1"
      },
      "execution_count": 57,
      "outputs": [
        {
          "output_type": "stream",
          "name": "stdout",
          "text": [
            "Statistics for column sum_gamerounds\n",
            "count    80012.000000\n",
            "mean        23.979178\n",
            "std         27.481366\n",
            "min          0.000000\n",
            "25%          4.000000\n",
            "50%         13.000000\n",
            "75%         34.000000\n",
            "max        120.000000\n",
            "Name: sum_gamerounds, dtype: float64\n"
          ]
        }
      ]
    },
    {
      "cell_type": "code",
      "source": [
        "# Check for duplicated rows\n",
        "duplicates = data.duplicated()\n",
        "print(\"Duplicate Rows:\")\n",
        "print(data[duplicates])\n",
        "\n",
        "# Check for inconsistent data types\n",
        "data_types = data.dtypes\n",
        "print(\"Data Types:\")\n",
        "print(data_types)"
      ],
      "metadata": {
        "colab": {
          "base_uri": "https://localhost:8080/"
        },
        "id": "51IfxEF2HO0P",
        "outputId": "dea511a8-8fb6-44dc-e76d-f2718fbbc0e0"
      },
      "execution_count": 58,
      "outputs": [
        {
          "output_type": "stream",
          "name": "stdout",
          "text": [
            "Duplicate Rows:\n",
            "Empty DataFrame\n",
            "Columns: [userid, version, sum_gamerounds, retention_1, retention_7]\n",
            "Index: []\n",
            "Data Types:\n",
            "userid             int64\n",
            "version           object\n",
            "sum_gamerounds     int64\n",
            "retention_1         bool\n",
            "retention_7         bool\n",
            "dtype: object\n"
          ]
        }
      ]
    },
    {
      "cell_type": "markdown",
      "source": [
        "# Descriptive statistics"
      ],
      "metadata": {
        "id": "rDFBznwIJWJV"
      }
    },
    {
      "cell_type": "markdown",
      "source": [
        "## using libraries scipy"
      ],
      "metadata": {
        "id": "rdHKpvGjKtG1"
      }
    },
    {
      "cell_type": "code",
      "source": [
        "# Split data into A and B groups\n",
        "group_A = data[data['version'] == 'gate_30']\n",
        "group_B = data[data['version'] == 'gate_40']\n",
        "\n",
        "from scipy import stats\n",
        "# Calculate descriptive statistics for Group A - sum_gamerounds\n",
        "stats_A_sum_gamerounds = stats.describe(group_A['sum_gamerounds'])\n",
        "\n",
        "# Calculate descriptive statistics for Group B - sum_gamerounds\n",
        "stats_B_sum_gamerounds = stats.describe(group_B['sum_gamerounds'])\n",
        "\n",
        "# Calculate descriptive statistics for Group A - retention_1\n",
        "stats_A_1 = stats.describe(group_A['retention_1'])\n",
        "\n",
        "# Calculate descriptive statistics for Group B - retention_1\n",
        "stats_B_1 = stats.describe(group_B['retention_1'])\n",
        "\n",
        "# Calculate descriptive statistics for Group A - retention_7\n",
        "stats_A_7 = stats.describe(group_A['retention_7'])\n",
        "\n",
        "# Calculate descriptive statistics for Group B - retention_7\n",
        "stats_B_7 = stats.describe(group_B['retention_7'])\n",
        "\n",
        "# Print the descriptive statistics\n",
        "print(\"Descriptive Statistics for Group A - sum_gameounds:\")\n",
        "print(stats_A_sum_gamerounds)\n",
        "print()\n",
        "print(\"Descriptive Statistics for Group B - sum_gameounds:\")\n",
        "print(stats_B_sum_gamerounds)\n",
        "print()\n",
        "print(\"Descriptive Statistics for Group A - retention_1:\")\n",
        "print(stats_A_1)\n",
        "print()\n",
        "print(\"Descriptive Statistics for Group B - retention_1:\")\n",
        "print(stats_B_1)\n",
        "print()\n",
        "print(\"Descriptive Statistics for Group A - retention_7:\")\n",
        "print(stats_A_7)\n",
        "print()\n",
        "print(\"Descriptive Statistics for Group B - retention_7:\")\n",
        "print(stats_B_7)\n"
      ],
      "metadata": {
        "colab": {
          "base_uri": "https://localhost:8080/"
        },
        "id": "CTJ3RBMdJZrQ",
        "outputId": "934321aa-5821-491e-8108-cec353d74145"
      },
      "execution_count": 59,
      "outputs": [
        {
          "output_type": "stream",
          "name": "stdout",
          "text": [
            "Descriptive Statistics for Group A - sum_gameounds:\n",
            "DescribeResult(nobs=39638, minmax=(0, 120), mean=23.945178868762298, variance=737.2607884976618, skewness=1.54710607103206, kurtosis=1.7794482410269001)\n",
            "\n",
            "Descriptive Statistics for Group B - sum_gameounds:\n",
            "DescribeResult(nobs=40374, minmax=(0, 120), mean=24.012557586565613, variance=772.8791675947692, skewness=1.5488706917090533, kurtosis=1.6751141883733514)\n",
            "\n",
            "Descriptive Statistics for Group A - retention_1:\n",
            "DescribeResult(nobs=39638, minmax=(False, True), mean=0.389096321711489, variance=0.23770637107358544, skewness=0.45494721775378544, kurtosis=-1.7930230290580893)\n",
            "\n",
            "Descriptive Statistics for Group B - retention_1:\n",
            "DescribeResult(nobs=40374, minmax=(False, True), mean=0.38336553227324516, variance=0.2364022562473611, skewness=0.4797737441315999, kurtosis=-1.7698171544419459)\n",
            "\n",
            "Descriptive Statistics for Group A - retention_7:\n",
            "DescribeResult(nobs=39638, minmax=(False, True), mean=0.11811897673949241, variance=0.10416951209490367, skewness=2.3664276798219186, kurtosis=3.5999799638273506)\n",
            "\n",
            "Descriptive Statistics for Group B - retention_7:\n",
            "DescribeResult(nobs=40374, minmax=(False, True), mean=0.10979838509932134, variance=0.09774512072064767, skewness=2.4961857115363766, kurtosis=4.230943106478369)\n"
          ]
        }
      ]
    },
    {
      "cell_type": "markdown",
      "source": [
        "# Normality and Homogeneity check to choose Statistical test\n",
        "> Shapiro Test for Normality Check.\n",
        "- H0: the data is normally distributed\n",
        "- H1: the data isn't normally distributed\n",
        "\n",
        "If the data has normal distribution, continue to check Homogeneity, if not, choose Non Parametric Test."
      ],
      "metadata": {
        "id": "7XV5SmejLhcv"
      }
    },
    {
      "cell_type": "code",
      "source": [
        "# Check normality - sum gamerounds\n",
        "_, p_value_A_gamerounds = stats.shapiro(group_A['sum_gamerounds'])\n",
        "_, p_value_B_gamerounds = stats.shapiro(group_B['sum_gamerounds'])\n",
        "\n",
        "print(\"Normality test for sum_gamerounds:\")\n",
        "print(\"Group A - p-value: {:.10f}\".format(p_value_A_gamerounds))\n",
        "print(\"Group B - p-value: {:.10f}\".format(p_value_B_gamerounds))\n",
        "print()\n",
        "\n",
        "# Check normality - retention_1\n",
        "_, p_value_A1 = stats.shapiro(group_A['retention_1'])\n",
        "_, p_value_B1 = stats.shapiro(group_B['retention_1'])\n",
        "\n",
        "print(\"Normality test for retention_1:\")\n",
        "print(\"Group A - p-value: {:.10f}\".format(p_value_A1))\n",
        "print(\"Group B - p-value: {:.10f}\".format(p_value_B1))\n",
        "print()\n",
        "\n",
        "# Check normality - retention_7\n",
        "_, p_value_A7 = stats.shapiro(group_A['retention_7'])\n",
        "_, p_value_B7 = stats.shapiro(group_B['retention_7'])\n",
        "\n",
        "print(\"Normality test for retention_7:\")\n",
        "print(\"Group A - p-value: {:.10f}\".format(p_value_A7))\n",
        "print(\"Group B - p-value: {:.10f}\".format(p_value_B7))\n",
        "print()\n",
        "\n"
      ],
      "metadata": {
        "colab": {
          "base_uri": "https://localhost:8080/"
        },
        "id": "knBZmNUEMUD-",
        "outputId": "61e79c61-1403-4f01-903a-b18768f05b47"
      },
      "execution_count": 60,
      "outputs": [
        {
          "output_type": "stream",
          "name": "stdout",
          "text": [
            "Normality test for sum_gamerounds:\n",
            "Group A - p-value: 0.0000000000\n",
            "Group B - p-value: 0.0000000000\n",
            "\n",
            "Normality test for retention_1:\n",
            "Group A - p-value: 0.0000000000\n",
            "Group B - p-value: 0.0000000000\n",
            "\n",
            "Normality test for retention_7:\n",
            "Group A - p-value: 0.0000000000\n",
            "Group B - p-value: 0.0000000000\n",
            "\n"
          ]
        },
        {
          "output_type": "stream",
          "name": "stderr",
          "text": [
            "/usr/local/lib/python3.10/dist-packages/scipy/stats/_morestats.py:1816: UserWarning: p-value may not be accurate for N > 5000.\n",
            "  warnings.warn(\"p-value may not be accurate for N > 5000.\")\n"
          ]
        }
      ]
    },
    {
      "cell_type": "markdown",
      "source": [
        "> **p-value is too small, less than 0.5, so the data is not normally distributed**\n",
        "\n",
        "--> Choose Non-parametric Test - Mann Whitney U Test"
      ],
      "metadata": {
        "id": "YNQBHU0pOKFL"
      }
    },
    {
      "cell_type": "markdown",
      "source": [
        "# Choose Mann Whitney U Test\n",
        "> Hypothesis 1:\n",
        "- H0: mean of sum_of_game_round_group_A = mean of sum_of_game_round_group_B\n",
        "- H1: mean of sum_of_game_round_group_A >< mean of sum_of_game_round_group_B\n",
        "\n",
        "> Hypothesis 2:\n",
        "- H0: retention_rate_after_1day_of_group_A = retention_rate_after_1day_of_group_B\n",
        "- H1: retention_rate_after_1day_of_group_A >< retention_rate_after_1day_of_group_B\n",
        "\n",
        ">Hypothesis 3:\n",
        "- H0: retention_rate_after_7day_of_group_A = retention_rate_after_7day_of_group_B\n",
        "- H1: retention_rate_after_7day_of_group_A >< retention_rate_after_7day_of_group_B"
      ],
      "metadata": {
        "id": "Ylj1rSj3Qtpw"
      }
    },
    {
      "cell_type": "code",
      "source": [
        "from scipy.stats import mannwhitneyu\n",
        "\n",
        "# Assuming you have two dataframes: group_A and group_B\n",
        "\n",
        "# Extract the Sum Gamerounds values for each group\n",
        "sum_gamerounds_group_A = group_A['sum_gamerounds']\n",
        "sum_gamerounds_group_B = group_B['sum_gamerounds']\n",
        "\n",
        "# Perform Mann-Whitney U Test on retention_7\n",
        "statistic_gamerounds, p_value_gamerounds = mannwhitneyu(sum_gamerounds_group_A, sum_gamerounds_group_B)\n",
        "\n",
        "# Extract the retention_1 values for each group\n",
        "retention_1_group_A = group_A['retention_1']\n",
        "retention_1_group_B = group_B['retention_1']\n",
        "\n",
        "# Perform Mann-Whitney U Test on retention_1\n",
        "statistic_1, p_value_1 = mannwhitneyu(retention_1_group_A, retention_1_group_B)\n",
        "\n",
        "# Extract the retention_7 values for each group\n",
        "retention_7_group_A = group_A['retention_7']\n",
        "retention_7_group_B = group_B['retention_7']\n",
        "\n",
        "# Perform Mann-Whitney U Test on retention_7\n",
        "statistic_7, p_value_7 = mannwhitneyu(retention_7_group_A, retention_7_group_B)\n",
        "\n",
        "# Print the results\n",
        "print(\"Mann-Whitney U Test Results for Sum Gamerounds:\")\n",
        "print(\"Statistic:\", statistic_gamerounds)\n",
        "print(\"p-value:\", p_value_gamerounds)\n",
        "print(\"-----------------------------------------\")\n",
        "print(\"Mann-Whitney U Test Results for Retention 1:\")\n",
        "print(\"Statistic:\", statistic_1)\n",
        "print(\"p-value:\", p_value_1)\n",
        "print(\"-----------------------------------------\")\n",
        "print(\"Mann-Whitney U Test Results for Retention 7:\")\n",
        "print(\"Statistic:\", statistic_7)\n",
        "print(\"p-value:\", p_value_7)\n"
      ],
      "metadata": {
        "colab": {
          "base_uri": "https://localhost:8080/"
        },
        "id": "YQCAQiWUQnSP",
        "outputId": "2347c773-92dc-44be-bb7f-525958de1436"
      },
      "execution_count": 61,
      "outputs": [
        {
          "output_type": "stream",
          "name": "stdout",
          "text": [
            "Mann-Whitney U Test Results for Sum Gamerounds:\n",
            "Statistic: 806916458.0\n",
            "p-value: 0.03885510150342266\n",
            "-----------------------------------------\n",
            "Mann-Whitney U Test Results for Retention 1:\n",
            "Statistic: 804757925.0\n",
            "p-value: 0.09598457875484477\n",
            "-----------------------------------------\n",
            "Mann-Whitney U Test Results for Retention 7:\n",
            "Statistic: 806830213.0\n",
            "p-value: 0.00021242240013123805\n"
          ]
        }
      ]
    },
    {
      "cell_type": "markdown",
      "source": [
        "Conclusions\n",
        "- With the given data and a significance level of 0.05, the null hypothesis was clearly rejected for retention after 7 days and the sum of game rounds which means there are significant impact on the retention rate after 7 days and the number of game rounds when changing the number of levels required to open the first gate.\n",
        "- The null hypothesis could not be rejected for retention after 1 day, which means there is no significant impact on retention rate after 1 day installed."
      ],
      "metadata": {
        "id": "a5ZkYc_xccDu"
      }
    }
  ]
}